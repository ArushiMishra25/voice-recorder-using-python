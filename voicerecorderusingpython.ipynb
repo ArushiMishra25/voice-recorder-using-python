{
 "cells": [
  {
   "cell_type": "code",
   "execution_count": null,
   "id": "468c4316",
   "metadata": {},
   "outputs": [],
   "source": [
    "!pip install sounddevice"
   ]
  },
  {
   "cell_type": "code",
   "execution_count": null,
   "id": "d14aa450",
   "metadata": {},
   "outputs": [],
   "source": [
    "!python -m pip install sounddevice\n",
    "import sounddevice\n",
    "from scipy.io.wavfile import write\n",
    "def voice_recorder(seconds,file):\n",
    "    print(\"RECORDING STARTED...\")\n",
    "    recording=sounddevice.rec((seconds*44100),samplerate=44100,channels=2)\n",
    "    sounddevice.wait()\n",
    "    write(file,44100,recording)\n",
    "    print(\"RECORDING FINSHED\")\n",
    "voice_recorder(10,\"record.wav\")    \n",
    "    \n",
    "    "
   ]
  },
  {
   "cell_type": "code",
   "execution_count": null,
   "id": "7e71d18d",
   "metadata": {},
   "outputs": [],
   "source": []
  }
 ],
 "metadata": {
  "kernelspec": {
   "display_name": "Python 3 (ipykernel)",
   "language": "python",
   "name": "python3"
  },
  "language_info": {
   "codemirror_mode": {
    "name": "ipython",
    "version": 3
   },
   "file_extension": ".py",
   "mimetype": "text/x-python",
   "name": "python",
   "nbconvert_exporter": "python",
   "pygments_lexer": "ipython3",
   "version": "3.11.4"
  }
 },
 "nbformat": 4,
 "nbformat_minor": 5
}
